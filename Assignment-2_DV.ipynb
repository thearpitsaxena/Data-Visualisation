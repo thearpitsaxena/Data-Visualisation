{
 "cells": [
  {
   "cell_type": "code",
   "execution_count": 15,
   "id": "2b3fc6e5",
   "metadata": {},
   "outputs": [
    {
     "name": "stdout",
     "output_type": "stream",
     "text": [
      "Student Table\n",
      "  Std_id      name  sem  age  CGPA Dept_id\n",
      "0   St11      Rama    1   19   7.5      D1\n",
      "1   St12   Krishna    1   20   8.9      D1\n",
      "2   St13  Balarama    2   21   9.9      D2\n",
      "3   St14    Hanuma    2   18   9.5      D2\n",
      "4   St15      Jaya    3   20   8.3      D3\n",
      "5   St16      Sita    3   22   8.5      D4\n",
      "6   St17     Radha    3   19   8.3      D4\n",
      "7   St18   Rukmini    2   17   8.1      D4\n",
      "8    S19   Lakshmi    1   19   9.2      D1\n",
      "9   St20  Bharatha    1   22   9.5      D2\n",
      "Dept Table\n",
      "  Dept_id      Dname       Dloc   D_Hod\n",
      "0      D1        CSE  Bangalore   Indra\n",
      "1      D2       Mech        Goa  Chadra\n",
      "2      D4  AI and ML      Delhi   Surya\n",
      "3      D5        ECE  Bangalore  Mourya\n",
      "4      D6      Civil    Mathura  Harsha\n"
     ]
    }
   ],
   "source": [
    "import pandas as pd\n",
    "\n",
    "Student_data={\n",
    "    'Std_id': ['St11','St12','St13','St14','St15','St16','St17','St18','S19','St20'],\n",
    "    'name':['Rama', 'Krishna', 'Balarama', 'Hanuma', 'Jaya', 'Sita', 'Radha', 'Rukmini', 'Lakshmi', 'Bharatha'],\n",
    "    'sem':[1,1,2,2,3,3,3,2,1,1],\n",
    "    'age': [19, 20, 21, 18, 20, 22, 19, 17, 19, 22],\n",
    "    'CGPA': [7.5, 8.9, 9.9, 9.5, 8.3, 8.5, 8.3, 8.1, 9.2, 9.5],\n",
    "    'Dept_id': ['D1', 'D1', 'D2', 'D2', 'D3', 'D4', 'D4', 'D4', 'D1', 'D2']\n",
    "}\n",
    "\n",
    "Student_df= pd.DataFrame(Student_data)\n",
    "\n",
    "\n",
    "Dept_data = {\n",
    "    'Dept_id': ['D1', 'D2', 'D4', 'D5', 'D6'],\n",
    "    'Dname': ['CSE', 'Mech', 'AI and ML', 'ECE', 'Civil'],\n",
    "    'Dloc': ['Bangalore', 'Goa', 'Delhi', 'Bangalore', 'Mathura'],\n",
    "    'D_Hod': ['Indra', 'Chadra', 'Surya', 'Mourya', 'Harsha']\n",
    "}\n",
    "\n",
    "Dept_df = pd.DataFrame(Dept_data)\n",
    "\n",
    "print(\"Student Table\")\n",
    "print(Student_df)\n",
    "print(\"Dept Table\")\n",
    "print(Dept_df)\n",
    "\n"
   ]
  },
  {
   "cell_type": "code",
   "execution_count": 16,
   "id": "fe4f5b38",
   "metadata": {},
   "outputs": [
    {
     "name": "stdout",
     "output_type": "stream",
     "text": [
      "Result of Inner join:\n",
      "  Std_id      name  sem  age  CGPA Dept_id      Dname       Dloc   D_Hod\n",
      "0   St11      Rama    1   19   7.5      D1        CSE  Bangalore   Indra\n",
      "1   St12   Krishna    1   20   8.9      D1        CSE  Bangalore   Indra\n",
      "8    S19   Lakshmi    1   19   9.2      D1        CSE  Bangalore   Indra\n",
      "2   St13  Balarama    2   21   9.9      D2       Mech        Goa  Chadra\n",
      "3   St14    Hanuma    2   18   9.5      D2       Mech        Goa  Chadra\n",
      "9   St20  Bharatha    1   22   9.5      D2       Mech        Goa  Chadra\n",
      "5   St16      Sita    3   22   8.5      D4  AI and ML      Delhi   Surya\n",
      "6   St17     Radha    3   19   8.3      D4  AI and ML      Delhi   Surya\n",
      "7   St18   Rukmini    2   17   8.1      D4  AI and ML      Delhi   Surya\n",
      "\n",
      "Result of Outer join:\n",
      "    Std_id      name  sem   age  CGPA Dept_id      Dname       Dloc   D_Hod\n",
      "0.0   St11      Rama  1.0  19.0   7.5      D1        CSE  Bangalore   Indra\n",
      "1.0   St12   Krishna  1.0  20.0   8.9      D1        CSE  Bangalore   Indra\n",
      "8.0    S19   Lakshmi  1.0  19.0   9.2      D1        CSE  Bangalore   Indra\n",
      "2.0   St13  Balarama  2.0  21.0   9.9      D2       Mech        Goa  Chadra\n",
      "3.0   St14    Hanuma  2.0  18.0   9.5      D2       Mech        Goa  Chadra\n",
      "9.0   St20  Bharatha  1.0  22.0   9.5      D2       Mech        Goa  Chadra\n",
      "4.0   St15      Jaya  3.0  20.0   8.3      D3        NaN        NaN     NaN\n",
      "5.0   St16      Sita  3.0  22.0   8.5      D4  AI and ML      Delhi   Surya\n",
      "6.0   St17     Radha  3.0  19.0   8.3      D4  AI and ML      Delhi   Surya\n",
      "7.0   St18   Rukmini  2.0  17.0   8.1      D4  AI and ML      Delhi   Surya\n",
      "NaN    NaN       NaN  NaN   NaN   NaN      D5        ECE  Bangalore  Mourya\n",
      "NaN    NaN       NaN  NaN   NaN   NaN      D6      Civil    Mathura  Harsha\n"
     ]
    }
   ],
   "source": [
    "innerjoin_df=Student_df.join(dept_df.set_index('Dept_id'), on='Dept_id', how='inner')\n",
    "\n",
    "outerjoin_df=Student_df.join(dept_df.set_index('Dept_id'), on='Dept_id', how='outer')\n",
    "\n",
    "print(\"Result of Inner join:\")\n",
    "print(innerjoin_df)\n",
    "\n",
    "print(\"\\nResult of Outer join:\")\n",
    "print(outer_join_df)"
   ]
  },
  {
   "cell_type": "code",
   "execution_count": 17,
   "id": "fb538fce",
   "metadata": {},
   "outputs": [
    {
     "name": "stdout",
     "output_type": "stream",
     "text": [
      "Merged DataFrame is:\n",
      "  Std_id      name  sem  age  CGPA Dept_id      Dname       Dloc   D_Hod\n",
      "0   St11      Rama    1   19   7.5      D1        CSE  Bangalore   Indra\n",
      "1   St12   Krishna    1   20   8.9      D1        CSE  Bangalore   Indra\n",
      "2    S19   Lakshmi    1   19   9.2      D1        CSE  Bangalore   Indra\n",
      "3   St13  Balarama    2   21   9.9      D2       Mech        Goa  Chadra\n",
      "4   St14    Hanuma    2   18   9.5      D2       Mech        Goa  Chadra\n",
      "5   St20  Bharatha    1   22   9.5      D2       Mech        Goa  Chadra\n",
      "6   St16      Sita    3   22   8.5      D4  AI and ML      Delhi   Surya\n",
      "7   St17     Radha    3   19   8.3      D4  AI and ML      Delhi   Surya\n",
      "8   St18   Rukmini    2   17   8.1      D4  AI and ML      Delhi   Surya\n"
     ]
    }
   ],
   "source": [
    "merge_df = Student_df.merge(dept_df, on='Dept_id')\n",
    "\n",
    "# Print the merged DataFrame\n",
    "print(\"Merged DataFrame is:\")\n",
    "print(merge_df)\n"
   ]
  },
  {
   "cell_type": "code",
   "execution_count": 20,
   "id": "0815989f",
   "metadata": {},
   "outputs": [
    {
     "name": "stdout",
     "output_type": "stream",
     "text": [
      "CSE Department Student Details:\n",
      "  Std_id     name  sem  age  CGPA Dept_id Dname       Dloc  D_Hod\n",
      "0   St11     Rama    1   19   7.5      D1   CSE  Bangalore  Indra\n",
      "1   St12  Krishna    1   20   8.9      D1   CSE  Bangalore  Indra\n",
      "2    S19  Lakshmi    1   19   9.2      D1   CSE  Bangalore  Indra\n"
     ]
    }
   ],
   "source": [
    "cse_stds = merge_df[merge_df['Dname'] == 'CSE']\n",
    "\n",
    "print(\"CSE Department Student Details:\")\n",
    "print(cse_stds)"
   ]
  },
  {
   "cell_type": "code",
   "execution_count": 23,
   "id": "50eea32e",
   "metadata": {},
   "outputs": [
    {
     "name": "stdout",
     "output_type": "stream",
     "text": [
      "Students Whose Names Begin with 'R':\n",
      "  Std_id     name  sem  age  CGPA Dept_id      Dname       Dloc  D_Hod\n",
      "0   St11     Rama    1   19   7.5      D1        CSE  Bangalore  Indra\n",
      "7   St17    Radha    3   19   8.3      D4  AI and ML      Delhi  Surya\n",
      "8   St18  Rukmini    2   17   8.1      D4  AI and ML      Delhi  Surya\n"
     ]
    }
   ],
   "source": [
    "r_names = merge_df[merge_df['name'].str.startswith('R')]\n",
    "\n",
    "print(\"Students Whose Names Begin with 'R':\")\n",
    "print(r_names)\n"
   ]
  },
  {
   "cell_type": "code",
   "execution_count": 25,
   "id": "c8d47980",
   "metadata": {},
   "outputs": [
    {
     "name": "stdout",
     "output_type": "stream",
     "text": [
      "  Std_id      name  sem  age  CGPA Dept_id Dname       Dloc   D_Hod\n",
      "2    S19   Lakshmi    1   19   9.2      D1   CSE  Bangalore   Indra\n",
      "3   St13  Balarama    2   21   9.9      D2  Mech        Goa  Chadra\n",
      "4   St14    Hanuma    2   18   9.5      D2  Mech        Goa  Chadra\n",
      "5   St20  Bharatha    1   22   9.5      D2  Mech        Goa  Chadra\n"
     ]
    }
   ],
   "source": [
    "cgpa = merge_df[merge_df['CGPA']> 9.0]\n",
    "print(cgpa)"
   ]
  },
  {
   "cell_type": "code",
   "execution_count": 29,
   "id": "47cc1e36",
   "metadata": {},
   "outputs": [
    {
     "name": "stdout",
     "output_type": "stream",
     "text": [
      "DataFrame with Renamed Column:\n",
      "  Std_id      name  sem  age  CGPA Dept_id  dept_name       Dloc   D_Hod\n",
      "0   St11      Rama    1   19   7.5      D1        CSE  Bangalore   Indra\n",
      "1   St12   Krishna    1   20   8.9      D1        CSE  Bangalore   Indra\n",
      "2    S19   Lakshmi    1   19   9.2      D1        CSE  Bangalore   Indra\n",
      "3   St13  Balarama    2   21   9.9      D2       Mech        Goa  Chadra\n",
      "4   St14    Hanuma    2   18   9.5      D2       Mech        Goa  Chadra\n",
      "5   St20  Bharatha    1   22   9.5      D2       Mech        Goa  Chadra\n",
      "6   St16      Sita    3   22   8.5      D4  AI and ML      Delhi   Surya\n",
      "7   St17     Radha    3   19   8.3      D4  AI and ML      Delhi   Surya\n",
      "8   St18   Rukmini    2   17   8.1      D4  AI and ML      Delhi   Surya\n"
     ]
    }
   ],
   "source": [
    "merge_df.rename(columns={'Dname': 'dept_name'})\n",
    "\n",
    "print(\"DataFrame with Renamed Column:\")\n",
    "print(merge_df)\n"
   ]
  },
  {
   "cell_type": "code",
   "execution_count": 30,
   "id": "968cb598",
   "metadata": {},
   "outputs": [
    {
     "name": "stdout",
     "output_type": "stream",
     "text": [
      "Highest and Lowest CGPA in Each Department:\n",
      "           max  min\n",
      "dept_name          \n",
      "AI and ML  8.5  8.1\n",
      "CSE        9.2  7.5\n",
      "Mech       9.9  9.5\n"
     ]
    }
   ],
   "source": [
    "\n",
    "cgpa_ag = merge_df.groupby('dept_name')['CGPA'].agg(['max', 'min'])\n",
    "\n",
    "print(\"Highest and Lowest CGPA in Each Department:\")\n",
    "print(cgpa_ag)\n"
   ]
  },
  {
   "cell_type": "code",
   "execution_count": 34,
   "id": "8c69cb59",
   "metadata": {},
   "outputs": [
    {
     "name": "stdout",
     "output_type": "stream",
     "text": [
      "Reshaped Dept Table:\n",
      "Dloc      Bangalore  Delhi     Goa Mathura\n",
      "Dname                                     \n",
      "AI and ML       NaN  Surya     NaN     NaN\n",
      "CSE           Indra    NaN     NaN     NaN\n",
      "Civil           NaN    NaN     NaN  Harsha\n",
      "ECE          Mourya    NaN     NaN     NaN\n",
      "Mech            NaN    NaN  Chadra     NaN\n"
     ]
    }
   ],
   "source": [
    "reshaped_dept = dept_df.pivot(index='Dname', columns='Dloc', values='D_Hod')\n",
    "\n",
    "print(\"Reshaped Dept Table:\")\n",
    "print(reshaped_dept)\n"
   ]
  },
  {
   "cell_type": "code",
   "execution_count": null,
   "id": "1cf26777",
   "metadata": {},
   "outputs": [],
   "source": []
  }
 ],
 "metadata": {
  "kernelspec": {
   "display_name": "Python 3 (ipykernel)",
   "language": "python",
   "name": "python3"
  },
  "language_info": {
   "codemirror_mode": {
    "name": "ipython",
    "version": 3
   },
   "file_extension": ".py",
   "mimetype": "text/x-python",
   "name": "python",
   "nbconvert_exporter": "python",
   "pygments_lexer": "ipython3",
   "version": "3.9.12"
  }
 },
 "nbformat": 4,
 "nbformat_minor": 5
}
